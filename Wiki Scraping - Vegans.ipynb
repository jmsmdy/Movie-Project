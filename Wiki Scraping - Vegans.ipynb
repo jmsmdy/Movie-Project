{
 "cells": [
  {
   "cell_type": "code",
   "execution_count": 1,
   "metadata": {},
   "outputs": [],
   "source": [
    "# !pip install lxml"
   ]
  },
  {
   "cell_type": "code",
   "execution_count": 2,
   "metadata": {},
   "outputs": [],
   "source": [
    "import requests\n",
    "import bs4\n",
    "from bs4 import BeautifulSoup as BS\n",
    "import pandas as pd\n",
    "import lxml"
   ]
  },
  {
   "cell_type": "code",
   "execution_count": 3,
   "metadata": {},
   "outputs": [],
   "source": [
    "def get_page():\n",
    "    headers = {'user-agent' : 'Mozilla/5.0 (Macintosh; Intel Mac OS X 10_14_6) AppleWebKit/537.36 (KHTML, like Gecko) Chrome/76.0.3809.100 Safari/537.36'}\n",
    "    url = \"https://en.wikipedia.org/wiki/List_of_vegans\"\n",
    "    page = requests.get(url, headers = headers)\n",
    "    return BS(page.content, 'html.parser')\n",
    "    "
   ]
  },
  {
   "cell_type": "code",
   "execution_count": 4,
   "metadata": {},
   "outputs": [],
   "source": [
    "page = get_page()"
   ]
  },
  {
   "cell_type": "code",
   "execution_count": 5,
   "metadata": {},
   "outputs": [],
   "source": [
    "table = page.find('table')"
   ]
  },
  {
   "cell_type": "code",
   "execution_count": 10,
   "metadata": {},
   "outputs": [],
   "source": [
    "vegans = pd.read_html(str(table), header=0)[0]"
   ]
  },
  {
   "cell_type": "code",
   "execution_count": 21,
   "metadata": {},
   "outputs": [],
   "source": [
    "vegan_list_pre = list(vegans[vegans['Occupation'].str.contains('Actor') | vegans['Occupation'].str.contains('Actress')]['Name'])"
   ]
  },
  {
   "cell_type": "code",
   "execution_count": 24,
   "metadata": {},
   "outputs": [
    {
     "data": {
      "text/plain": [
       "[('Casey Affleck',),\n",
       " ('Suzy Amis',),\n",
       " ('Pamela Anderson',),\n",
       " ('Allisyn Ashley Arm',),\n",
       " ('Alec Baldwin',),\n",
       " ('Violett Beane',),\n",
       " ('Ed Begley Jr.',),\n",
       " ('Mayim Bialik',),\n",
       " ('Linda Blair',),\n",
       " ('Darren Boyd',),\n",
       " ('Russell Brand',),\n",
       " ('Beau Bridges',),\n",
       " ('Jessica Chastain',),\n",
       " ('Greg Cipes',),\n",
       " ('Laverne Cox',),\n",
       " ('Amanda Crew',),\n",
       " ('James Cromwell',),\n",
       " ('Benedict Cumberbatch',),\n",
       " ('Alan Cumming',),\n",
       " ('Thomas Dekker',),\n",
       " ('Emily Deschanel',),\n",
       " ('Jenna Dewan-Tatum',),\n",
       " ('Peter Dinklage',),\n",
       " ('Michael Dorn',),\n",
       " ('Zac Efron',),\n",
       " ('Peter Egan',),\n",
       " ('Kimberly Elise',),\n",
       " ('Nathalie Emmanuel',),\n",
       " ('Edie Falco',),\n",
       " ('Pamelyn Ferdin',),\n",
       " ('Michelle Forbes',),\n",
       " ('Sara Gilbert',),\n",
       " ('Larry Hagman',),\n",
       " ('Daryl Hannah',),\n",
       " ('Woody Harrelson',),\n",
       " ('Liam Hemsworth',),\n",
       " ('Famke Janssen',),\n",
       " ('Myq Kaplan',),\n",
       " ('Aamir Khan',),\n",
       " ('Curtis Lepore',),\n",
       " ('Gregg Lowe',),\n",
       " ('Evanna Lynch',),\n",
       " ('Tobey Maguire',),\n",
       " ('Kate Mara',),\n",
       " ('Rooney Mara',),\n",
       " ('Brit Marling',),\n",
       " ('Lauren McCrostie',),\n",
       " ('Luísa Mell',),\n",
       " ('Daniella Monet',),\n",
       " ('Demi Moore',),\n",
       " ('Carrie-Anne Moss',),\n",
       " ('Tia Mowry',),\n",
       " ('Bree Olson',),\n",
       " ('Ellen Page',),\n",
       " ('Teresa Palmer',),\n",
       " ('Marcus Patrick',),\n",
       " ('Alexandra Paul',),\n",
       " ('Madelaine Petsch',),\n",
       " ('Michelle Pfeiffer',),\n",
       " ('Joaquin Phoenix',),\n",
       " ('Rain Phoenix',),\n",
       " ('River Phoenix',),\n",
       " ('Summer Phoenix',),\n",
       " ('Rachel Pilkington',),\n",
       " ('Ellen Pompeo',),\n",
       " ('Natalie Portman',),\n",
       " ('Franka Potente',),\n",
       " ('Laura Prepon',),\n",
       " ('Pablo Puyol',),\n",
       " ('Maggie Q',),\n",
       " ('Linnea Quigley',),\n",
       " ('Kangana Ranaut',),\n",
       " ('Romesh Ranganathan',),\n",
       " ('Marco Antonio Regil',),\n",
       " ('Hubertus Regout',),\n",
       " ('Dakota Blue Richards',),\n",
       " ('Daisy Ridley',),\n",
       " ('Calu Rivero',),\n",
       " ('Eric Roberts',),\n",
       " ('Portia de Rossi',),\n",
       " ('Peter Sarsgaard',),\n",
       " ('John Schneider',),\n",
       " ('Jason Schwartzman',),\n",
       " ('Daniela Sea',),\n",
       " ('Roxy Shahidi',),\n",
       " ('Mallika Sherawat',),\n",
       " ('Alicia Silverstone',),\n",
       " ('Sadie Sink',),\n",
       " ('Lynda Stoner',),\n",
       " ('Mena Suvari',),\n",
       " ('Ayesha Takia',),\n",
       " ('Christine Taylor',),\n",
       " ('Aimee Teegarden',),\n",
       " ('Persia White',),\n",
       " ('Olivia Wilde',),\n",
       " ('Vanessa A. Williams',),\n",
       " ('Spice Williams-Crosby',),\n",
       " ('DeWanda Wise',),\n",
       " ('Gretchen Wyler',),\n",
       " ('Bellamy Young',),\n",
       " ('Sheri Moon Zombie',)]"
      ]
     },
     "execution_count": 24,
     "metadata": {},
     "output_type": "execute_result"
    }
   ],
   "source": [
    "vegan_list = list(map(lambda x: (x,), vegan_list_pre))\n",
    "vegan_list"
   ]
  },
  {
   "cell_type": "code",
   "execution_count": 26,
   "metadata": {},
   "outputs": [],
   "source": [
    "import csv\n",
    "\n",
    "with open('vegan_actors.csv', 'w') as myfile:\n",
    "    wr = csv.writer(myfile, quoting=csv.QUOTE_ALL)\n",
    "    wr.writerows(vegan_list)"
   ]
  },
  {
   "cell_type": "code",
   "execution_count": null,
   "metadata": {},
   "outputs": [],
   "source": []
  },
  {
   "cell_type": "code",
   "execution_count": null,
   "metadata": {},
   "outputs": [],
   "source": []
  },
  {
   "cell_type": "code",
   "execution_count": null,
   "metadata": {},
   "outputs": [],
   "source": []
  },
  {
   "cell_type": "code",
   "execution_count": null,
   "metadata": {},
   "outputs": [],
   "source": []
  },
  {
   "cell_type": "code",
   "execution_count": null,
   "metadata": {},
   "outputs": [],
   "source": []
  }
 ],
 "metadata": {
  "kernelspec": {
   "display_name": "learn-env",
   "language": "python",
   "name": "learn-env"
  },
  "language_info": {
   "codemirror_mode": {
    "name": "ipython",
    "version": 3
   },
   "file_extension": ".py",
   "mimetype": "text/x-python",
   "name": "python",
   "nbconvert_exporter": "python",
   "pygments_lexer": "ipython3",
   "version": "3.6.6"
  }
 },
 "nbformat": 4,
 "nbformat_minor": 2
}
